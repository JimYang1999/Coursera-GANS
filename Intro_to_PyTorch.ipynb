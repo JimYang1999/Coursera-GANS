{
  "nbformat": 4,
  "nbformat_minor": 0,
  "metadata": {
    "colab": {
      "name": "Intro_to_PyTorch.ipynb",
      "provenance": [],
      "authorship_tag": "ABX9TyPJHy282Y0VlgzR3EOOM55k",
      "include_colab_link": true
    },
    "kernelspec": {
      "name": "python3",
      "display_name": "Python 3"
    },
    "language_info": {
      "name": "python"
    },
    "accelerator": "GPU"
  },
  "cells": [
    {
      "cell_type": "markdown",
      "metadata": {
        "id": "view-in-github",
        "colab_type": "text"
      },
      "source": [
        "<a href=\"https://colab.research.google.com/github/azxa318258p/Coursera-GANS/blob/main/Intro_to_PyTorch.ipynb\" target=\"_parent\"><img src=\"https://colab.research.google.com/assets/colab-badge.svg\" alt=\"Open In Colab\"/></a>"
      ]
    },
    {
      "cell_type": "markdown",
      "metadata": {
        "id": "ZvkJ_0NQ69Ns"
      },
      "source": [
        "# Intro\n",
        "\n",
        "[PyTorch](https://pytorch.org/) is a very powerful machine learning framework. Central to PyTorch are [tensors](https://pytorch.org/docs/stable/tensors.html), a generalization of matrices to higher ranks. One intuitive example of a tensor is an image with three color channels: A 3-channel (red, green, blue) image which is 64 pixels wide and 64 pixels tall is a $3\\times64\\times64$ tensor. You can access the PyTorch framework by writing `import torch` near the top of your code, along with all of your other import statements.\n",
        "\n",
        "This guide will help introduce you to the functionality of PyTorch, but don't worry too much about memorizing it: the assignments will link to relevant documentation where necessary."
      ]
    },
    {
      "cell_type": "code",
      "metadata": {
        "id": "-chBoblW7O1A"
      },
      "source": [
        "import torch"
      ],
      "execution_count": null,
      "outputs": []
    },
    {
      "cell_type": "markdown",
      "metadata": {
        "id": "6ON0VqiW7gFs"
      },
      "source": [
        "# Why PyTorch?\n",
        "\n",
        "One important question worth asking is, why is PyTorch being used for this course? There is a great breakdown by [the Gradient](https://thegradient.pub/state-of-ml-frameworks-2019-pytorch-dominates-research-tensorflow-dominates-industry/) looking at the state of machine learning frameworks today. In part, as highlighted by the article, PyTorch is generally more pythonic than alternative frameworks, easier to debug, and is the most-used language in machine learning research by a large and growing margin. While PyTorch's primary alternative, Tensorflow, has attempted to integrate many of PyTorch's features, Tensorflow's implementations come with some inherent limitations highlighted in the article.\n",
        "\n",
        "Notably, while PyTorch's industry usage has grown, Tensorflow is still (for now) a slight favorite in industry. In practice, the features that make PyTorch attractive for research also make it attractive for education, and the general trend of machine learning research and practice to PyTorch makes it the more proactive choice. "
      ]
    },
    {
      "cell_type": "markdown",
      "metadata": {
        "id": "0qM6EIxJ7pvw"
      },
      "source": [
        "# Tensor Properties\n",
        "One way to create tensors from a list or an array is to use `torch.Tensor`. It'll be used to set up examples in this notebook, but you'll never need to use it in the course - in fact, if you find yourself needing it, that's probably not the correct answer. "
      ]
    },
    {
      "cell_type": "code",
      "metadata": {
        "id": "9D9tY3xR7p_3"
      },
      "source": [
        "example_tensor = torch.Tensor(\n",
        "    [\n",
        "     [[1,2], [3,4]],\n",
        "     [[5,6],[7,8]],\n",
        "     [[9,0],[1,2]]\n",
        "    ]\n",
        ")"
      ],
      "execution_count": null,
      "outputs": []
    },
    {
      "cell_type": "markdown",
      "metadata": {
        "id": "P46tUhDk8CC9"
      },
      "source": [
        "You can view the tensor in the notebook by simple printing it out (though some larger tensors will be cut off)"
      ]
    },
    {
      "cell_type": "code",
      "metadata": {
        "colab": {
          "base_uri": "https://localhost:8080/"
        },
        "id": "0-4sUare8CkR",
        "outputId": "f0b1b49e-fd98-4c50-aed4-bf32340b79a4"
      },
      "source": [
        "example_tensor"
      ],
      "execution_count": null,
      "outputs": [
        {
          "output_type": "execute_result",
          "data": {
            "text/plain": [
              "tensor([[[1., 2.],\n",
              "         [3., 4.]],\n",
              "\n",
              "        [[5., 6.],\n",
              "         [7., 8.]],\n",
              "\n",
              "        [[9., 0.],\n",
              "         [1., 2.]]])"
            ]
          },
          "metadata": {
            "tags": []
          },
          "execution_count": 3
        }
      ]
    },
    {
      "cell_type": "markdown",
      "metadata": {
        "id": "6WOk1qvV8JAF"
      },
      "source": [
        "## Tensor Properties: Device\n",
        "\n",
        "One important property is the device of the tensor - throughout this notebook you'll be sticking to tensors which are on the CPU. However, throughout the course you'll also be using tensors on GPU (that is, a graphics card which will be provided for you to use for the course). To view the device of the tensor, all you need to write is `example_tensor.device`. To move a tensor to a new device, you can write `new_tensor = example_tensor.to(device)` where device will be either `cpu` or `cuda`."
      ]
    },
    {
      "cell_type": "code",
      "metadata": {
        "colab": {
          "base_uri": "https://localhost:8080/"
        },
        "id": "p8PmHEgZ8Evh",
        "outputId": "dfb27392-865a-4858-a426-d2042c64cf50"
      },
      "source": [
        "example_tensor.device"
      ],
      "execution_count": null,
      "outputs": [
        {
          "output_type": "execute_result",
          "data": {
            "text/plain": [
              "device(type='cpu')"
            ]
          },
          "metadata": {
            "tags": []
          },
          "execution_count": 4
        }
      ]
    },
    {
      "cell_type": "markdown",
      "metadata": {
        "id": "qau_XcdD8Tf4"
      },
      "source": [
        "## Tensor Properties: Shape\n",
        "\n",
        "And you can get the number of elements in each dimension by printing out the tensor's shape, using `example_tensor.shape`, something you're likely familiar with if you've used numpy. For example, this tensor is a $3\\times2\\times2$ tensor, since it has 3 elements, each of which are $2\\times2$. "
      ]
    },
    {
      "cell_type": "code",
      "metadata": {
        "colab": {
          "base_uri": "https://localhost:8080/"
        },
        "id": "icFk05tD8PVR",
        "outputId": "6352c033-47a8-490f-ffcf-81886f08a85f"
      },
      "source": [
        "example_tensor.shape"
      ],
      "execution_count": null,
      "outputs": [
        {
          "output_type": "execute_result",
          "data": {
            "text/plain": [
              "torch.Size([3, 2, 2])"
            ]
          },
          "metadata": {
            "tags": []
          },
          "execution_count": 5
        }
      ]
    },
    {
      "cell_type": "markdown",
      "metadata": {
        "id": "0vdL_76S8bAR"
      },
      "source": [
        "You can also get the size of a particular dimension $n$ using `example_tensor.shape[n]` or equivalently `example_tensor.size(n)`"
      ]
    },
    {
      "cell_type": "code",
      "metadata": {
        "colab": {
          "base_uri": "https://localhost:8080/"
        },
        "id": "3bfAhkn58ZG7",
        "outputId": "57f031a1-e04a-4220-d7e3-41426d172c0b"
      },
      "source": [
        "print(\"shape[0] =\", example_tensor.shape[0])\n",
        "print(\"size(1) =\", example_tensor.size(1))"
      ],
      "execution_count": null,
      "outputs": [
        {
          "output_type": "stream",
          "text": [
            "shape[0] = 3\n",
            "size(1) = 2\n"
          ],
          "name": "stdout"
        }
      ]
    },
    {
      "cell_type": "markdown",
      "metadata": {
        "id": "vWAxG1hJ8l-t"
      },
      "source": [
        "Finally, it is sometimes useful to get the number of dimensions (rank) or the number of elements, which you can do as follows"
      ]
    },
    {
      "cell_type": "code",
      "metadata": {
        "colab": {
          "base_uri": "https://localhost:8080/"
        },
        "id": "LSzLroEY8g3O",
        "outputId": "c51366f4-b229-4f3b-e390-9c70177916b2"
      },
      "source": [
        "print(\"Rank =\", len(example_tensor.shape))\n",
        "print(\"Number of elements =\", example_tensor.numel())"
      ],
      "execution_count": null,
      "outputs": [
        {
          "output_type": "stream",
          "text": [
            "Rank = 3\n",
            "Number of elements = 12\n"
          ],
          "name": "stdout"
        }
      ]
    },
    {
      "cell_type": "markdown",
      "metadata": {
        "id": "sncXeLgS8rrG"
      },
      "source": [
        "# Indexing Tensors\n",
        "\n",
        "As with numpy, you can access specific elements or subsets of elements of a tensor. To access the $n$-th element, you can simply write `example_tensor[n]` - as with Python in general, these dimensions are 0-indexed. "
      ]
    },
    {
      "cell_type": "code",
      "metadata": {
        "colab": {
          "base_uri": "https://localhost:8080/"
        },
        "id": "ut97vInD8oQh",
        "outputId": "fd756f50-3877-46e0-a2f4-e1b5ee0c186b"
      },
      "source": [
        "example_tensor[1]"
      ],
      "execution_count": null,
      "outputs": [
        {
          "output_type": "execute_result",
          "data": {
            "text/plain": [
              "tensor([[5., 6.],\n",
              "        [7., 8.]])"
            ]
          },
          "metadata": {
            "tags": []
          },
          "execution_count": 8
        }
      ]
    },
    {
      "cell_type": "markdown",
      "metadata": {
        "id": "T3alIQ9t8v4v"
      },
      "source": [
        "In addition, if you want to access the $j$-th dimension of the $i$-th example, you can write `example_tensor[i, j]`"
      ]
    },
    {
      "cell_type": "code",
      "metadata": {
        "colab": {
          "base_uri": "https://localhost:8080/"
        },
        "id": "Us6DB_K58uQj",
        "outputId": "e24410b6-b23d-4d7c-e33f-62b29685a379"
      },
      "source": [
        "example_tensor[1, 1, 0]"
      ],
      "execution_count": null,
      "outputs": [
        {
          "output_type": "execute_result",
          "data": {
            "text/plain": [
              "tensor(7.)"
            ]
          },
          "metadata": {
            "tags": []
          },
          "execution_count": 9
        }
      ]
    },
    {
      "cell_type": "markdown",
      "metadata": {
        "id": "dhaW8HrH80lA"
      },
      "source": [
        "Note that if you'd like to get a Python scalar value from a tensor, you can use `example_scalar.item()`"
      ]
    },
    {
      "cell_type": "code",
      "metadata": {
        "colab": {
          "base_uri": "https://localhost:8080/"
        },
        "id": "58cD9Ug68zKa",
        "outputId": "74de9b66-c95f-4390-d49a-56fa34ba4be8"
      },
      "source": [
        "example_scalar = example_tensor[1, 1, 0]\n",
        "example_scalar.item()"
      ],
      "execution_count": null,
      "outputs": [
        {
          "output_type": "execute_result",
          "data": {
            "text/plain": [
              "7.0"
            ]
          },
          "metadata": {
            "tags": []
          },
          "execution_count": 10
        }
      ]
    },
    {
      "cell_type": "markdown",
      "metadata": {
        "id": "zqKs3bAx88gS"
      },
      "source": [
        "In addition, you can index into the ith element of a column by using `x[:, i]`. For example, if you want the top-left element of each element in `example_tensor`, which is the `0, 0` element of each matrix, you can write:"
      ]
    },
    {
      "cell_type": "code",
      "metadata": {
        "colab": {
          "base_uri": "https://localhost:8080/"
        },
        "id": "J93J5axw83aL",
        "outputId": "4e9d6e43-4a47-4c9b-e4c2-c9e89b677fb2"
      },
      "source": [
        "example_tensor[:, 0, 0]"
      ],
      "execution_count": null,
      "outputs": [
        {
          "output_type": "execute_result",
          "data": {
            "text/plain": [
              "tensor([1., 5., 9.])"
            ]
          },
          "metadata": {
            "tags": []
          },
          "execution_count": 11
        }
      ]
    },
    {
      "cell_type": "markdown",
      "metadata": {
        "id": "2MExp_bO9BEL"
      },
      "source": [
        "# Initializing Tensors\n",
        "\n",
        "There are many ways to create new tensors in PyTorch, but in this course, the most important ones are: \n",
        "\n",
        "[`torch.ones_like`](https://pytorch.org/docs/master/generated/torch.ones_like.html): creates a tensor of all ones with the same shape and device as `example_tensor`."
      ]
    },
    {
      "cell_type": "code",
      "metadata": {
        "colab": {
          "base_uri": "https://localhost:8080/"
        },
        "id": "quBcsqBE9BZ0",
        "outputId": "477d2a38-330b-43a6-f8eb-88edbc8cdebb"
      },
      "source": [
        "torch.ones_like(example_tensor)"
      ],
      "execution_count": null,
      "outputs": [
        {
          "output_type": "execute_result",
          "data": {
            "text/plain": [
              "tensor([[[1., 1.],\n",
              "         [1., 1.]],\n",
              "\n",
              "        [[1., 1.],\n",
              "         [1., 1.]],\n",
              "\n",
              "        [[1., 1.],\n",
              "         [1., 1.]]])"
            ]
          },
          "metadata": {
            "tags": []
          },
          "execution_count": 12
        }
      ]
    },
    {
      "cell_type": "markdown",
      "metadata": {
        "id": "HjOI01qR9JYV"
      },
      "source": [
        "[`torch.zeros_like`](https://pytorch.org/docs/master/generated/torch.zeros_like.html): creates a tensor of all zeros with the same shape and device as `example_tensor`"
      ]
    },
    {
      "cell_type": "code",
      "metadata": {
        "colab": {
          "base_uri": "https://localhost:8080/"
        },
        "id": "RHrJWas29G9W",
        "outputId": "6a548511-2e10-495c-e9d3-f39b09830ada"
      },
      "source": [
        "torch.zeros_like(example_tensor)"
      ],
      "execution_count": null,
      "outputs": [
        {
          "output_type": "execute_result",
          "data": {
            "text/plain": [
              "tensor([[[0., 0.],\n",
              "         [0., 0.]],\n",
              "\n",
              "        [[0., 0.],\n",
              "         [0., 0.]],\n",
              "\n",
              "        [[0., 0.],\n",
              "         [0., 0.]]])"
            ]
          },
          "metadata": {
            "tags": []
          },
          "execution_count": 13
        }
      ]
    },
    {
      "cell_type": "markdown",
      "metadata": {
        "id": "Xg2HRWfp9Tbx"
      },
      "source": [
        "[`torch.randn_like`](https://pytorch.org/docs/stable/generated/torch.randn_like.html): creates a tensor with every element sampled from a [Normal (or Gaussian) distribution](https://en.wikipedia.org/wiki/Normal_distribution) with the same shape and device as `example_tensor`\n"
      ]
    },
    {
      "cell_type": "code",
      "metadata": {
        "colab": {
          "base_uri": "https://localhost:8080/"
        },
        "id": "925nHX-X9OWb",
        "outputId": "64e92608-19ad-499e-ce41-68ebaf06b31b"
      },
      "source": [
        "torch.randn_like(example_tensor)"
      ],
      "execution_count": null,
      "outputs": [
        {
          "output_type": "execute_result",
          "data": {
            "text/plain": [
              "tensor([[[ 0.2925, -1.0749],\n",
              "         [ 1.6088,  0.4007]],\n",
              "\n",
              "        [[ 0.1187,  1.6291],\n",
              "         [-0.0910,  0.7518]],\n",
              "\n",
              "        [[ 0.8159, -0.3902],\n",
              "         [ 0.9151, -1.5014]]])"
            ]
          },
          "metadata": {
            "tags": []
          },
          "execution_count": 14
        }
      ]
    },
    {
      "cell_type": "markdown",
      "metadata": {
        "id": "rbfL7Cox9ady"
      },
      "source": [
        "Sometimes (though less often than you'd expect), you might need to initialize a tensor knowing only the shape and device, without a tensor for reference for `ones_like` or `randn_like`. In this case, you can create a $2x2$ tensor as follows:"
      ]
    },
    {
      "cell_type": "code",
      "metadata": {
        "colab": {
          "base_uri": "https://localhost:8080/"
        },
        "id": "wngRBvvo9W3a",
        "outputId": "b7a0a026-80f0-45d2-8905-c9d77e1344d6"
      },
      "source": [
        "torch.randn(2, 2, device='cpu') # Alternatively, for a GPU tensor, you'd use device='cuda'"
      ],
      "execution_count": null,
      "outputs": [
        {
          "output_type": "execute_result",
          "data": {
            "text/plain": [
              "tensor([[ 0.8604, -0.8758],\n",
              "        [-0.2118,  0.3500]])"
            ]
          },
          "metadata": {
            "tags": []
          },
          "execution_count": 15
        }
      ]
    },
    {
      "cell_type": "markdown",
      "metadata": {
        "id": "NRi9w4tB9uKO"
      },
      "source": [
        "# Basic Functions\n",
        "\n",
        "There are a number of basic functions that you should know to use PyTorch - if you're familiar with numpy, all commonly-used functions exist in PyTorch, usually with the same name. You can perform element-wise multiplication / division by a scalar $c$ by simply writing `c * example_tensor`, and element-wise addition / subtraction by a scalar by writing `example_tensor + c`\n",
        "\n",
        "Note that most operations are not in-place in PyTorch, which means that they don't change the original variable's data (However, you can reassign the same variable name to the changed data if you'd like, such as `example_tensor = example_tensor + 1`)"
      ]
    },
    {
      "cell_type": "code",
      "metadata": {
        "colab": {
          "base_uri": "https://localhost:8080/"
        },
        "id": "HctazjSr9d8r",
        "outputId": "96ed566f-7f6f-4d88-9371-ea0dbbad79aa"
      },
      "source": [
        "(example_tensor - 5) * 2"
      ],
      "execution_count": null,
      "outputs": [
        {
          "output_type": "execute_result",
          "data": {
            "text/plain": [
              "tensor([[[ -8.,  -6.],\n",
              "         [ -4.,  -2.]],\n",
              "\n",
              "        [[  0.,   2.],\n",
              "         [  4.,   6.]],\n",
              "\n",
              "        [[  8., -10.],\n",
              "         [ -8.,  -6.]]])"
            ]
          },
          "metadata": {
            "tags": []
          },
          "execution_count": 16
        }
      ]
    },
    {
      "cell_type": "markdown",
      "metadata": {
        "id": "MUZeOjZg930R"
      },
      "source": [
        "You can calculate the mean or standard deviation of a tensor using [`example_tensor.mean()`](https://pytorch.org/docs/stable/generated/torch.mean.html) or [`example_tensor.std()`](https://pytorch.org/docs/stable/generated/torch.std.html). "
      ]
    },
    {
      "cell_type": "code",
      "metadata": {
        "colab": {
          "base_uri": "https://localhost:8080/"
        },
        "id": "UbOpY0e690v_",
        "outputId": "4f70ee12-28ac-40b3-f0c6-c8137b5b030e"
      },
      "source": [
        "print(\"Mean:\", example_tensor.mean())\n",
        "print(\"Stdev:\", example_tensor.std())"
      ],
      "execution_count": null,
      "outputs": [
        {
          "output_type": "stream",
          "text": [
            "Mean: tensor(4.)\n",
            "Stdev: tensor(2.9848)\n"
          ],
          "name": "stdout"
        }
      ]
    },
    {
      "cell_type": "markdown",
      "metadata": {
        "id": "i39YwEVg99O8"
      },
      "source": [
        "You might also want to find the mean or standard deviation along a particular dimension. To do this you can simple pass the number corresponding to that dimension to the function. For example, if you want to get the average $2\\times2$ matrix of the $3\\times2\\times2$ `example_tensor` you can write:"
      ]
    },
    {
      "cell_type": "code",
      "metadata": {
        "colab": {
          "base_uri": "https://localhost:8080/"
        },
        "id": "vqb_yAFK95zq",
        "outputId": "6936e3e3-c730-48b6-c02b-ecb71460b20c"
      },
      "source": [
        "example_tensor.mean(0)\n",
        "\n",
        "# Equivalently, you could also write:\n",
        "# example_tensor.mean(dim=0)\n",
        "# example_tensor.mean(axis=0)\n",
        "# torch.mean(example_tensor, 0)\n",
        "# torch.mean(example_tensor, dim=0)\n",
        "# torch.mean(example_tensor, axis=0)"
      ],
      "execution_count": null,
      "outputs": [
        {
          "output_type": "execute_result",
          "data": {
            "text/plain": [
              "tensor([[5.0000, 2.6667],\n",
              "        [3.6667, 4.6667]])"
            ]
          },
          "metadata": {
            "tags": []
          },
          "execution_count": 18
        }
      ]
    },
    {
      "cell_type": "markdown",
      "metadata": {
        "id": "ngHgp6Ci-Gpp"
      },
      "source": [
        "PyTorch has many other powerful functions but these should be all of PyTorch functions you need for this course outside of its neural network module (`torch.nn`)."
      ]
    },
    {
      "cell_type": "markdown",
      "metadata": {
        "id": "8Yi-mN81-I1z"
      },
      "source": [
        "# PyTorch Neural Network Module (`torch.nn`)\n",
        "\n",
        "PyTorch has a lot of powerful classes in its `torch.nn` module (Usually, imported as simply `nn`). These classes allow you to create a new function which transforms a tensor in specific way, often retaining information when called multiple times."
      ]
    },
    {
      "cell_type": "code",
      "metadata": {
        "id": "T5Ngo_22-CHx"
      },
      "source": [
        "import torch.nn as nn"
      ],
      "execution_count": null,
      "outputs": []
    },
    {
      "cell_type": "markdown",
      "metadata": {
        "id": "4iZ9r6HU-TOw"
      },
      "source": [
        "## `nn.Linear`\n",
        "\n",
        "To create a linear layer, you need to pass it the number of input dimensions and the number of output dimensions. The linear object initialized as `nn.Linear(10, 2)` will take in a $n\\times10$ matrix and return an $n\\times2$ matrix, where all $n$ elements have had the same linear transformation performed. For example, you can initialize a linear layer which performs the operation $Ax + b$, where $A$ and $b$ are initialized randomly when you generate the [`nn.Linear()`](https://pytorch.org/docs/stable/generated/torch.nn.Linear.html) object. "
      ]
    },
    {
      "cell_type": "code",
      "metadata": {
        "colab": {
          "base_uri": "https://localhost:8080/"
        },
        "id": "xL_WDcZH-Wft",
        "outputId": "d9ef4b90-52d4-4367-a668-6771b41a3f8e"
      },
      "source": [
        "linear = nn.Linear(10,2)\n",
        "example_input = torch.randn(3,10)\n",
        "example_output = linear(example_input)\n",
        "example_output"
      ],
      "execution_count": null,
      "outputs": [
        {
          "output_type": "execute_result",
          "data": {
            "text/plain": [
              "tensor([[ 0.0028, -0.4185],\n",
              "        [-0.7260,  1.2215],\n",
              "        [-0.5109,  0.5144]], grad_fn=<AddmmBackward>)"
            ]
          },
          "metadata": {
            "tags": []
          },
          "execution_count": 20
        }
      ]
    },
    {
      "cell_type": "markdown",
      "metadata": {
        "id": "moZtcMew-983"
      },
      "source": [
        "## `nn.ReLU`\n",
        "\n",
        "[`nn.ReLU()`](https://pytorch.org/docs/stable/generated/torch.nn.ReLU.html) will create an object that, when receiving a tensor, will perform a ReLU activation function. This will be reviewed further in lecture, but in essence, a ReLU non-linearity sets all negative numbers in a tensor to zero. In general, the simplest neural networks are composed of series of linear transformations, each followed by activation functions. "
      ]
    },
    {
      "cell_type": "code",
      "metadata": {
        "colab": {
          "base_uri": "https://localhost:8080/"
        },
        "id": "EWvbasZE-Rbj",
        "outputId": "c0b5e115-92ae-47ff-cb6d-54b4f91f4726"
      },
      "source": [
        "relu = nn.ReLU()\n",
        "relu_output = relu(example_output)\n",
        "relu_output"
      ],
      "execution_count": null,
      "outputs": [
        {
          "output_type": "execute_result",
          "data": {
            "text/plain": [
              "tensor([[0.0028, 0.0000],\n",
              "        [0.0000, 1.2215],\n",
              "        [0.0000, 0.5144]], grad_fn=<ReluBackward0>)"
            ]
          },
          "metadata": {
            "tags": []
          },
          "execution_count": 21
        }
      ]
    },
    {
      "cell_type": "markdown",
      "metadata": {
        "id": "b1UJfUqT_Hdz"
      },
      "source": [
        "## `nn.BatchNorm1d`\n",
        "\n",
        "[`nn.BatchNorm1d`](https://pytorch.org/docs/stable/generated/torch.nn.BatchNorm1d.html) is a normalization technique that will rescale a batch of $n$ inputs to have a consistent mean and standard deviation between batches.  \n",
        "\n",
        "As indicated by the `1d` in its name, this is for situations where you expects a set of inputs, where each of them is a flat list of numbers. In other words, each input is a vector, not a matrix or higher-dimensional tensor. For a set of images, each of which is a higher-dimensional tensor, you'd use [`nn.BatchNorm2d`](https://pytorch.org/docs/stable/generated/torch.nn.BatchNorm2d.html), discussed later on this page.\n",
        "\n",
        "`nn.BatchNorm1d` takes an argument of the number of input dimensions of each object in the batch (the size of each example vector)."
      ]
    },
    {
      "cell_type": "code",
      "metadata": {
        "colab": {
          "base_uri": "https://localhost:8080/"
        },
        "id": "KqFR1n_2_H6q",
        "outputId": "5ba16220-c878-4151-8c82-c976ee664d9f"
      },
      "source": [
        "batchnorm = nn.BatchNorm1d(2)\n",
        "batchnorm_output = batchnorm(relu_output)\n",
        "batchnorm_output"
      ],
      "execution_count": null,
      "outputs": [
        {
          "output_type": "execute_result",
          "data": {
            "text/plain": [
              "tensor([[ 0.5425, -1.1555],\n",
              "        [-0.2713,  1.2838],\n",
              "        [-0.2713, -0.1283]], grad_fn=<NativeBatchNormBackward>)"
            ]
          },
          "metadata": {
            "tags": []
          },
          "execution_count": 22
        }
      ]
    },
    {
      "cell_type": "markdown",
      "metadata": {
        "id": "vDapop_-_P5l"
      },
      "source": [
        "## `nn.Sequential`\n",
        "\n",
        "[`nn.Sequential`](https://pytorch.org/docs/stable/generated/torch.nn.Sequential.html) creates a single operation that performs a sequence of operations. For example, you can write a neural network layer with a batch normalization as"
      ]
    },
    {
      "cell_type": "code",
      "metadata": {
        "colab": {
          "base_uri": "https://localhost:8080/"
        },
        "id": "AGZensqJ_QL3",
        "outputId": "98c2f5ec-9ee5-4563-91c3-fe90d3f7279d"
      },
      "source": [
        "mpl_layer = nn.Sequential(\n",
        "    nn.Linear(5,2),\n",
        "    nn.BatchNorm1d(2),\n",
        "    nn.ReLU()\n",
        ")\n",
        "\n",
        "test_example = torch.randn(5,5) +1\n",
        "print(f\"input: {test_example}\")\n",
        "print(f\"output: {mpl_layer(test_example)}\")"
      ],
      "execution_count": null,
      "outputs": [
        {
          "output_type": "stream",
          "text": [
            "input: tensor([[-0.5527,  0.8958, -0.0241,  2.6221,  0.4588],\n",
            "        [ 0.8716,  1.5665,  0.1226,  0.4200,  0.2036],\n",
            "        [ 1.3044, -0.1763, -2.0097,  2.2128, -0.9370],\n",
            "        [ 1.0613, -1.6236,  1.6954,  1.6588,  1.0194],\n",
            "        [-2.0167,  0.9112,  0.6762,  3.0654,  3.1395]])\n",
            "output: tensor([[0.0000, 0.0000],\n",
            "        [0.0000, 0.0000],\n",
            "        [0.1520, 0.0000],\n",
            "        [0.0000, 1.7201],\n",
            "        [1.7875, 0.5017]], grad_fn=<ReluBackward0>)\n"
          ],
          "name": "stdout"
        }
      ]
    },
    {
      "cell_type": "markdown",
      "metadata": {
        "id": "e1EaaqyW_yzv"
      },
      "source": [
        "# Optimization\n",
        "\n",
        "One of the most important aspects of essentially any machine learning framework is its automatic differentiation library. "
      ]
    },
    {
      "cell_type": "markdown",
      "metadata": {
        "id": "ga2dO4oP_3ZJ"
      },
      "source": [
        "## Optimizers\n",
        "\n",
        "To create an optimizer in PyTorch, you'll need to use the `torch.optim` module, often imported as `optim`. [`optim.Adam`](https://pytorch.org/docs/stable/optim.html#torch.optim.Adam) corresponds to the Adam optimizer. To create an optimizer object, you'll need to pass it the parameters to be optimized and the learning rate, `lr`, as well as any other parameters specific to the optimizer.\n",
        "\n",
        "For all `nn` objects, you can access their parameters as a list using their `parameters()` method, as follows:"
      ]
    },
    {
      "cell_type": "code",
      "metadata": {
        "id": "re3QB5_y_rQY"
      },
      "source": [
        "import torch.optim as optim\n",
        "adam_opt = optim.Adam(mpl_layer.parameters(), lr=1e-1)"
      ],
      "execution_count": null,
      "outputs": []
    },
    {
      "cell_type": "markdown",
      "metadata": {
        "id": "rgvyaeZZANvt"
      },
      "source": [
        "## Training Loop\n",
        "\n",
        "A (basic) training step in PyTorch consists of four basic parts:\n",
        "\n",
        "\n",
        "1.   Set all of the gradients to zero using `opt.zero_grad()`\n",
        "2.   Calculate the loss, `loss`\n",
        "3.   Calculate the gradients with respect to the loss using `loss.backward()`\n",
        "4.   Update the parameters being optimized using `opt.step()`\n",
        "\n",
        "That might look like the following code (and you'll notice that if you run it several times, the loss goes down):\n"
      ]
    },
    {
      "cell_type": "code",
      "metadata": {
        "colab": {
          "base_uri": "https://localhost:8080/"
        },
        "id": "xEV2Xbk6AEAd",
        "outputId": "073c7143-31af-4815-f481-5430df53156e"
      },
      "source": [
        "train_example = torch.randn(100,5) +1\n",
        "adam_opt.zero_grad()\n",
        "\n",
        "# We'll use a simple loss function of mean distance from 1\n",
        "# torch.abs takes the absolute value of a tensor\n",
        "cur_loss= torch.abs(1 - mpl_layer(train_example)).mean()\n",
        "\n",
        "cur_loss.backward()\n",
        "adam_opt.step()\n",
        "print(cur_loss)"
      ],
      "execution_count": null,
      "outputs": [
        {
          "output_type": "stream",
          "text": [
            "tensor(0.7715, grad_fn=<MeanBackward0>)\n"
          ],
          "name": "stdout"
        }
      ]
    },
    {
      "cell_type": "markdown",
      "metadata": {
        "id": "DLkAdyMlA5hR"
      },
      "source": [
        "## `requires_grad_()`\n",
        "\n",
        "You can also tell PyTorch that it needs to calculate the gradient with respect to a tensor that you created by saying `example_tensor.requires_grad_()`, which will change it in-place. This means that even if PyTorch wouldn't normally store a grad for that particular tensor, it will for that specified tensor. "
      ]
    },
    {
      "cell_type": "markdown",
      "metadata": {
        "id": "b0RCyNNKA9zY"
      },
      "source": [
        "## `with torch.no_grad():`\n",
        "\n",
        "PyTorch will usually calculate the gradients as it proceeds through a set of operations on tensors. This can often take up unnecessary computations and memory, especially if you're performing an evaluation. However, you can wrap a piece of code with `with torch.no_grad()` to prevent the gradients from being calculated in a piece of code. "
      ]
    },
    {
      "cell_type": "markdown",
      "metadata": {
        "id": "SgMa4UtHA_yQ"
      },
      "source": [
        "\n",
        "## `detach():`\n",
        "\n",
        "Sometimes, you want to calculate and use a tensor's value without calculating its gradients. For example, if you have two models, A and B, and you want to directly optimize the parameters of A with respect to the output of B, without calculating the gradients through B, then you could feed the detached output of B to A. There are many reasons you might want to do this, including efficiency or cyclical dependencies (i.e. A depends on B depends on A)."
      ]
    },
    {
      "cell_type": "markdown",
      "metadata": {
        "id": "H5uFs3cbBBmd"
      },
      "source": [
        "# New `nn` Classes\n",
        "\n",
        "You can also create new classes which extend the `nn` module. For these classes, all class attributes, as in `self.layer` or `self.param` will automatically treated as parameters if they are themselves `nn` objects or if they are tensors wrapped in `nn.Parameter` which are initialized with the class. \n",
        "\n",
        "The `__init__` function defines what will happen when the object is created. The first line of the init function of a class, for example, `WellNamedClass`, needs to be `super(WellNamedClass, self).__init__()`. \n",
        "\n",
        "The `forward` function defines what runs if you create that object `model` and pass it a tensor `x`, as in `model(x)`. If you choose the function signature, `(self, x)`, then each call of the forward function, gets two pieces of information: `self`, which is a reference to the object with which you can access all of its parameters, and `x`, which is the current tensor for which you'd like to return `y`.\n",
        "\n",
        "One class might look like the following:"
      ]
    },
    {
      "cell_type": "code",
      "metadata": {
        "id": "aUTzmgjTA5zN"
      },
      "source": [
        "class ExampleModule(nn.Module):\n",
        "  def __init__(self,input_dims,output_dims):\n",
        "    super(ExampleModule , self).__init__()\n",
        "    self.linear = nn.Linear(input_dims , output_dims)\n",
        "    self.exponent = nn.Parameter(torch.tensor(1.))\n",
        "  def forward(self,x):\n",
        "    x = self.linear(x)\n",
        "\n",
        "    # This is the notation for element-wise exponentiation, \n",
        "    # which matches python in general\n",
        "    x = x**self.exponent\n",
        "\n",
        "    return x"
      ],
      "execution_count": null,
      "outputs": []
    },
    {
      "cell_type": "markdown",
      "metadata": {
        "id": "oBcUujo_BqWL"
      },
      "source": [
        "And you can view its parameters as follows"
      ]
    },
    {
      "cell_type": "code",
      "metadata": {
        "colab": {
          "base_uri": "https://localhost:8080/"
        },
        "id": "04Tk2ykQBmlx",
        "outputId": "aaa8b415-bb8c-4e5f-fff7-b8bcc9e90031"
      },
      "source": [
        "example_model = ExampleModule(10, 2)\n",
        "list(example_model.parameters())"
      ],
      "execution_count": null,
      "outputs": [
        {
          "output_type": "execute_result",
          "data": {
            "text/plain": [
              "[Parameter containing:\n",
              " tensor(1., requires_grad=True), Parameter containing:\n",
              " tensor([[-0.2668, -0.2660,  0.0535,  0.3006, -0.0089, -0.1924,  0.0857,  0.2480,\n",
              "           0.1066, -0.1893],\n",
              "         [-0.0035,  0.3103,  0.1023,  0.0525, -0.1195,  0.1331,  0.3055, -0.2499,\n",
              "          -0.1581, -0.3043]], requires_grad=True), Parameter containing:\n",
              " tensor([-0.0362, -0.0371], requires_grad=True)]"
            ]
          },
          "metadata": {
            "tags": []
          },
          "execution_count": 27
        }
      ]
    },
    {
      "cell_type": "markdown",
      "metadata": {
        "id": "-_AkOfbZBvM_"
      },
      "source": [
        "And you can print out their names too, as follows:"
      ]
    },
    {
      "cell_type": "code",
      "metadata": {
        "colab": {
          "base_uri": "https://localhost:8080/"
        },
        "id": "CVIzZWNGBsZZ",
        "outputId": "604f55a0-06b2-412c-805b-2477fcd9f7ca"
      },
      "source": [
        "list(example_model.named_parameters())"
      ],
      "execution_count": null,
      "outputs": [
        {
          "output_type": "execute_result",
          "data": {
            "text/plain": [
              "[('exponent', Parameter containing:\n",
              "  tensor(1., requires_grad=True)), ('linear.weight', Parameter containing:\n",
              "  tensor([[-0.2668, -0.2660,  0.0535,  0.3006, -0.0089, -0.1924,  0.0857,  0.2480,\n",
              "            0.1066, -0.1893],\n",
              "          [-0.0035,  0.3103,  0.1023,  0.0525, -0.1195,  0.1331,  0.3055, -0.2499,\n",
              "           -0.1581, -0.3043]], requires_grad=True)), ('linear.bias',\n",
              "  Parameter containing:\n",
              "  tensor([-0.0362, -0.0371], requires_grad=True))]"
            ]
          },
          "metadata": {
            "tags": []
          },
          "execution_count": 28
        }
      ]
    },
    {
      "cell_type": "markdown",
      "metadata": {
        "id": "4YDxrZQgByKD"
      },
      "source": [
        "And here's an example of the class in action:"
      ]
    },
    {
      "cell_type": "code",
      "metadata": {
        "colab": {
          "base_uri": "https://localhost:8080/"
        },
        "id": "fCrGdc6VBwSi",
        "outputId": "b31ef7f2-941b-4ce3-f25a-7df622d8bfa2"
      },
      "source": [
        "input = torch.randn(2, 10)\n",
        "example_model(input)"
      ],
      "execution_count": null,
      "outputs": [
        {
          "output_type": "execute_result",
          "data": {
            "text/plain": [
              "tensor([[ 0.4462, -0.4407],\n",
              "        [ 0.2468, -0.4456]], grad_fn=<PowBackward1>)"
            ]
          },
          "metadata": {
            "tags": []
          },
          "execution_count": 29
        }
      ]
    },
    {
      "cell_type": "markdown",
      "metadata": {
        "id": "rFR4mSYBB1GG"
      },
      "source": [
        "# 2D Operations\n",
        "\n",
        "You won't need these for the first lesson, and the theory behind each of these will be reviewed more in later lectures, but here is a quick reference: \n",
        "\n",
        "\n",
        "*   2D convolutions: [`nn.Conv2d`](https://pytorch.org/docs/master/generated/torch.nn.Conv2d.html) requires the number of input and output channels, as well as the kernel size.\n",
        "*   2D transposed convolutions (aka deconvolutions): [`nn.ConvTranspose2d`](https://pytorch.org/docs/master/generated/torch.nn.ConvTranspose2d.html) also requires the number of input and output channels, as well as the kernel size\n",
        "*   2D batch normalization: [`nn.BatchNorm2d`](https://pytorch.org/docs/stable/generated/torch.nn.BatchNorm2d.html) requires the number of input dimensions\n",
        "*   Resizing images: [`nn.Upsample`](https://pytorch.org/docs/master/generated/torch.nn.Upsample.html) requires the final size or a scale factor. Alternatively, [`nn.functional.interpolate`](https://pytorch.org/docs/stable/nn.functional.html#torch.nn.functional.interpolate) takes the same arguments. \n",
        "\n",
        "\n",
        "\n"
      ]
    }
  ]
}